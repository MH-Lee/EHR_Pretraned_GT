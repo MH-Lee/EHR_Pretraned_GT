{
 "cells": [
  {
   "cell_type": "code",
   "execution_count": 8,
   "metadata": {},
   "outputs": [],
   "source": [
    "import pickle\n",
    "import torch\n",
    "from torch_geometric.data import Data"
   ]
  },
  {
   "cell_type": "code",
   "execution_count": 9,
   "metadata": {},
   "outputs": [],
   "source": [
    "path_labels = './data/dict/data_y_bin_v2.pkl'\n",
    "with open(path_labels, 'rb') as fp:\n",
    "    dic_label = pickle.load(fp)\n",
    "\n",
    "with open('./data/dict/adm_info_v2.pkl', 'rb') as fp:\n",
    "    demo_dict = pickle.load(fp)\n",
    "\n",
    "# import dictionnaire pickle dic_global\n",
    "with open('./data/dict/dic_global_v2.pkl', 'rb') as fp:\n",
    "    dic_global = pickle.load(fp)\n",
    "\n",
    "with open('./data/dict/data_raw_v2.pkl', 'rb') as fp:\n",
    "    data_x = pickle.load(fp)"
   ]
  },
  {
   "cell_type": "code",
   "execution_count": 10,
   "metadata": {},
   "outputs": [],
   "source": [
    "def node_edge_gen(seq, dic_global, liste_node, liste_type):\n",
    "    indices_d = list(set(seq['diagnoses']))\n",
    "    indices_p = list(set(seq['procedures']))\n",
    "    indices_m = list(set(seq['drugs']))\n",
    "    # indices_l = list(set(seq['labevents']))\n",
    "\n",
    "    for diag in indices_d:\n",
    "        node = int(dic_global[diag]['identifiant']) + 1\n",
    "        type_node = int(dic_global[diag]['type_code'])\n",
    "        liste_node.append(node)\n",
    "        liste_type.append(type_node)\n",
    "    \n",
    "    for proc in indices_p:\n",
    "        node = int(dic_global[proc]['identifiant']) + 1\n",
    "        type_node = int(dic_global[proc]['type_code'])\n",
    "        liste_node.append(node)\n",
    "        liste_type.append(type_node)\n",
    "    \n",
    "    for med in indices_m:\n",
    "        node = int(dic_global[med]['identifiant']) + 1\n",
    "        type_node = int(dic_global[med]['type_code'])\n",
    "        liste_node.append(node)\n",
    "        liste_type.append(type_node)\n",
    "    \n",
    "    # for lab in indices_l:\n",
    "    #     node = int(dic_global[lab]['identifiant']) + 1\n",
    "    #     type_node = int(dic_global[lab]['type_code'])\n",
    "    #     liste_node.append(node)\n",
    "    #     liste_type.append(type_node)\n",
    "        \n",
    "    return liste_node, liste_type\n",
    "\n",
    "def creation_edge_index(x, liste_type, dic_type):\n",
    "    # Edges (graphe complet)\n",
    "    edge_attr = []\n",
    "    edge_index = []\n",
    "    all_edges = []\n",
    "\n",
    "    for i in range(len(x)):\n",
    "        for j in range(i+1,len(x)):\n",
    "            all_edges.append((i, j))\n",
    "            edge_attr.append(dic_type[(liste_type[i], liste_type[j])])\n",
    "    source, target = zip(*all_edges)\n",
    "\n",
    "    edge_index = torch.tensor([source, target], dtype=torch.int64)\n",
    "    edge_attr = torch.tensor(edge_attr, dtype=torch.int64)\n",
    "\n",
    "    return edge_index , edge_attr"
   ]
  },
  {
   "cell_type": "code",
   "execution_count": 11,
   "metadata": {},
   "outputs": [],
   "source": [
    "num_nodes = len(dic_global) + 1"
   ]
  },
  {
   "cell_type": "code",
   "execution_count": 12,
   "metadata": {},
   "outputs": [
    {
     "data": {
      "text/plain": [
       "14444"
      ]
     },
     "execution_count": 12,
     "metadata": {},
     "output_type": "execute_result"
    }
   ],
   "source": [
    "num_nodes"
   ]
  },
  {
   "cell_type": "code",
   "execution_count": 13,
   "metadata": {},
   "outputs": [],
   "source": [
    "dic_type = {(0,0): 0,\n",
    "            (0,1): 0,\n",
    "            (1,0): 0, \n",
    "            (0,2): 0,\n",
    "            (2,0): 0,\n",
    "            (0,3): 0,\n",
    "            (3,0): 0,\n",
    "            (1,1): 1,\n",
    "            (1,2): 2,\n",
    "            (2,1): 2,\n",
    "            (1,3): 3,\n",
    "            (3,1): 3,\n",
    "            (2,2): 4,\n",
    "            (2,3): 5,\n",
    "            (3,2): 5,\n",
    "            (3,3): 6\n",
    "            }"
   ]
  },
  {
   "cell_type": "code",
   "execution_count": 15,
   "metadata": {},
   "outputs": [
    {
     "data": {
      "text/plain": [
       "16"
      ]
     },
     "execution_count": 15,
     "metadata": {},
     "output_type": "execute_result"
    }
   ],
   "source": [
    "len(dic_type)"
   ]
  },
  {
   "cell_type": "code",
   "execution_count": 16,
   "metadata": {},
   "outputs": [],
   "source": [
    "from tqdm import tqdm"
   ]
  },
  {
   "cell_type": "code",
   "execution_count": 17,
   "metadata": {},
   "outputs": [
    {
     "name": "stderr",
     "output_type": "stream",
     "text": [
      "100%|██████████| 41419/41419 [04:36<00:00, 149.99it/s]\n"
     ]
    }
   ],
   "source": [
    "liste_dataset = []\n",
    "\n",
    "for subj_id, vitsits_demo in tqdm(demo_dict.items()):\n",
    "    # print(subj_id, vitsits_demo)\n",
    "    liste_patient = []\n",
    "    label = torch.tensor(dic_label[subj_id], dtype=torch.int64)\n",
    "    for hadm_id, info in vitsits_demo.items():\n",
    "        visite_objet = Data()\n",
    "        visite_objet.subject_id = torch.tensor([subj_id], dtype=torch.int64)\n",
    "        visite_objet.hadm_id = torch.tensor([hadm_id], dtype=torch.int64)\n",
    "        visite_objet.age = torch.tensor([info['age']], dtype=torch.int64)\n",
    "        visite_objet.time = torch.tensor([info['admittime']], dtype=torch.int64)\n",
    "        visite_objet.rang = torch.tensor([info['rang']], dtype=torch.int64)\n",
    "        visite_objet.type = torch.tensor([info['adm_type']], dtype=torch.int64)\n",
    "        \n",
    "        liste_node ,liste_type = [], []\n",
    "        liste_node, liste_type = node_edge_gen(data_x[subj_id][hadm_id], dic_global,liste_node,liste_type)\n",
    "        visite_objet.x = torch.cat([torch.tensor([0]), torch.tensor(liste_node, dtype=torch.int64)]).reshape(1,-1)\n",
    "        liste_node = [0] + liste_node\n",
    "        liste_type = [0] + liste_type\n",
    "        \n",
    "        edge_index, edge_attr = creation_edge_index(liste_node, liste_type, dic_type) \n",
    "        visite_objet.edge_index = edge_index\n",
    "        visite_objet.edge_attr = edge_attr\n",
    "        liste_patient.append(visite_objet)\n",
    "    liste_patient.append(label)\n",
    "    liste_dataset.append(liste_patient)"
   ]
  },
  {
   "cell_type": "code",
   "execution_count": 18,
   "metadata": {},
   "outputs": [],
   "source": [
    "with open('./data/dic_type_correspondance_v2.pkl', 'wb') as fp:\n",
    "    pickle.dump(dic_type, fp)\n",
    "\n",
    "with open('./data/data_v2.pkl', 'wb') as fp:\n",
    "    pickle.dump(liste_dataset, fp)"
   ]
  },
  {
   "cell_type": "code",
   "execution_count": 52,
   "metadata": {},
   "outputs": [
    {
     "data": {
      "text/plain": [
       "[Data(subject_id=[1], hadm_id=[1], age=[1], time=[1], rang=[1], type=[1], x=[1, 80], edge_index=[2, 3160], edge_attr=[3160]),\n",
       " Data(subject_id=[1], hadm_id=[1], age=[1], time=[1], rang=[1], type=[1], x=[1, 71], edge_index=[2, 2485], edge_attr=[2485]),\n",
       " Data(subject_id=[1], hadm_id=[1], age=[1], time=[1], rang=[1], type=[1], x=[1, 62], edge_index=[2, 1891], edge_attr=[1891]),\n",
       " tensor([0, 0, 1, 0, 0, 0, 0, 0, 0, 0, 1, 0, 0, 0, 0, 0, 0, 0, 0, 0, 1, 0, 0, 0,\n",
       "         0, 0, 0, 0, 0, 0, 0, 0, 0, 0, 0, 0, 0, 0, 0, 0, 0, 0, 0, 0, 0, 0, 0, 0,\n",
       "         1, 0, 0, 0, 0, 0, 1, 0, 0, 0, 0, 0, 0, 0, 0, 0, 0, 0, 0, 0, 0, 0, 0, 0,\n",
       "         0, 0, 0, 0, 1, 0, 1, 0, 0, 0, 0, 0, 0, 0, 0, 0, 0, 0, 0, 0, 0, 0, 0, 0,\n",
       "         0, 0, 0, 0])]"
      ]
     },
     "execution_count": 52,
     "metadata": {},
     "output_type": "execute_result"
    }
   ],
   "source": [
    "liste_patient"
   ]
  }
 ],
 "metadata": {
  "kernelspec": {
   "display_name": "graph",
   "language": "python",
   "name": "python3"
  },
  "language_info": {
   "codemirror_mode": {
    "name": "ipython",
    "version": 3
   },
   "file_extension": ".py",
   "mimetype": "text/x-python",
   "name": "python",
   "nbconvert_exporter": "python",
   "pygments_lexer": "ipython3",
   "version": "3.10.14"
  }
 },
 "nbformat": 4,
 "nbformat_minor": 2
}
