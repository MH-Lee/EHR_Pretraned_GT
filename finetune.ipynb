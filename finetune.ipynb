{
 "cells": [
  {
   "cell_type": "code",
   "execution_count": 62,
   "metadata": {},
   "outputs": [],
   "source": [
    "import os\n",
    "import pickle\n",
    "import torch\n",
    "import random\n",
    "from torch_geometric.loader import DataListLoader as GraphLoader\n",
    "from torch_geometric.data import Batch\n",
    "from src.utils.datasets import GDSet, split_dataset\n",
    "from src.models.transformer import BertForNDP\n",
    "from src.models.graphtransformer import BertConfig\n",
    "from sklearn.model_selection import ShuffleSplit\n",
    "os.environ['CUDA_LAUNCH_BLOCKING'] = \"1\""
   ]
  },
  {
   "cell_type": "code",
   "execution_count": 2,
   "metadata": {},
   "outputs": [],
   "source": [
    "path = './data/'"
   ]
  },
  {
   "cell_type": "code",
   "execution_count": 3,
   "metadata": {},
   "outputs": [],
   "source": [
    "with open(os.path.join(path, 'pretrained_data_pad1000.pkl'), 'rb') as handle:\n",
    "    dataset = pickle.load(handle)"
   ]
  },
  {
   "cell_type": "code",
   "execution_count": 4,
   "metadata": {},
   "outputs": [],
   "source": [
    "train_l = int(len(dataset)*0.70)\n",
    "val_l = int(len(dataset)*0.10)\n",
    "test_l = len(dataset) - val_l - train_l\n",
    "number_output = 100"
   ]
  },
  {
   "cell_type": "code",
   "execution_count": 63,
   "metadata": {},
   "outputs": [],
   "source": [
    "file_config = {\n",
    "    'model_path': './results/finetune/', # where to save model\n",
    "    'file_name': 'log.txt',  # log path\n",
    "}\n",
    "\n",
    "global_params = {\n",
    "    'max_seq_len': 50,\n",
    "    'month': 1,\n",
    "    'gradient_accumulation_steps': 1\n",
    "}\n",
    "\n",
    "optim_param = {\n",
    "    'lr': 3e-5,\n",
    "    'warmup_proportion': 0.1,\n",
    "    'weight_decay': 0.01\n",
    "}\n",
    "\n",
    "train_params = {\n",
    "    'batch_size': 64,\n",
    "    'use_cuda': True,\n",
    "    'max_len_seq': global_params['max_seq_len'],\n",
    "    'device': \"cuda\" if torch.cuda.is_available() else \"cpu\",\n",
    "    'data_len' : len(dataset),\n",
    "    'train_data_len' : train_l,\n",
    "    'val_data_len' :  val_l,\n",
    "    'test_data_len' : test_l,\n",
    "    'epochs' : 30,\n",
    "    'action' : 'train'\n",
    "}\n",
    "\n",
    "model_config = {\n",
    "    'vocab_size': 15322, # number of disease + symbols for word embedding\n",
    "    'edge_relationship_size': 12, # number of vocab for edge_attr\n",
    "    'hidden_size': 50*5, # word embedding and seg embedding hidden size\n",
    "    'seg_vocab_size': 2, # number of vocab for seg embedding\n",
    "    'age_vocab_size': 151, # number of vocab for age embedding\n",
    "    'feature_dict':15322,\n",
    "    'type_vocab_size': 11+1, # number of vocab for type embedding + 1 for mask\n",
    "    'max_position_embedding': train_params['max_len_seq'], # maximum number of tokens\n",
    "    'hidden_dropout_prob': 0.2, # dropout rate\n",
    "    'graph_dropout_prob': 0.2, # dropout rate\n",
    "    'num_hidden_layers': 6, # number of multi-head attention layers required\n",
    "    'num_attention_heads': 2, # number of attention heads\n",
    "    'attention_probs_dropout_prob': 0.2, # multi-head attention dropout rate\n",
    "    'intermediate_size': 512, # the size of the \"intermediate\" layer in the transformer encoder\n",
    "    'hidden_act': 'gelu', # The non-linear activation function in the encoder and the pooler \"gelu\", 'relu', 'swish' are supported\n",
    "    'initializer_range': 0.02, # parameter weight initializer range\n",
    "    'number_output' : number_output,\n",
    "    'n_layers' : 3,\n",
    "    'alpha' : 0.1\n",
    "}"
   ]
  },
  {
   "cell_type": "code",
   "execution_count": 64,
   "metadata": {},
   "outputs": [],
   "source": [
    "conf = BertConfig(model_config)\n",
    "behrt = BertForNDP(conf)\n",
    "\n",
    "behrt = behrt.to(train_params['device'])\n",
    "\n",
    "#models parameters\n",
    "transformer_vars = [i for i in behrt.parameters()]\n",
    "optim_behrt = torch.optim.AdamW(transformer_vars, lr=3e-5)"
   ]
  },
  {
   "cell_type": "code",
   "execution_count": 65,
   "metadata": {},
   "outputs": [
    {
     "data": {
      "text/plain": [
       "<All keys matched successfully>"
      ]
     },
     "execution_count": 65,
     "metadata": {},
     "output_type": "execute_result"
    }
   ],
   "source": [
    "pretrained_dict = torch.load(\"./results/weights/GraphTransformer_pretrain_num_0.pch\", map_location=train_params['device'])\n",
    "model_dict = behrt.state_dict()\n",
    "# 1. filter out unnecessary keys\n",
    "pretrained_dict = {f'bert.embeddings.word_embeddings.{k}': v for k, v in pretrained_dict.items()}\n",
    "pretrained_dict = {k: v for k, v in pretrained_dict.items() if k in model_dict}\n",
    "# 2. overwrite entries in the existing state dict\n",
    "model_dict.update(pretrained_dict)\n",
    "# 3. load the new state dict\n",
    "behrt.load_state_dict(model_dict)"
   ]
  },
  {
   "cell_type": "code",
   "execution_count": 66,
   "metadata": {},
   "outputs": [
    {
     "data": {
      "text/plain": [
       "odict_keys(['bert.embeddings.cls_token', 'bert.embeddings.word_embeddings.conv.module_0.lin_key.weight', 'bert.embeddings.word_embeddings.conv.module_0.lin_key.bias', 'bert.embeddings.word_embeddings.conv.module_0.lin_query.weight', 'bert.embeddings.word_embeddings.conv.module_0.lin_query.bias', 'bert.embeddings.word_embeddings.conv.module_0.lin_value.weight', 'bert.embeddings.word_embeddings.conv.module_0.lin_value.bias', 'bert.embeddings.word_embeddings.conv.module_0.layernorm1.weight', 'bert.embeddings.word_embeddings.conv.module_0.layernorm1.bias', 'bert.embeddings.word_embeddings.conv.module_0.layernorm2.weight', 'bert.embeddings.word_embeddings.conv.module_0.layernorm2.bias', 'bert.embeddings.word_embeddings.conv.module_0.proj.weight', 'bert.embeddings.word_embeddings.conv.module_0.proj.bias', 'bert.embeddings.word_embeddings.conv.module_0.ffn.weight', 'bert.embeddings.word_embeddings.conv.module_0.ffn.bias', 'bert.embeddings.word_embeddings.conv.module_0.ffn2.weight', 'bert.embeddings.word_embeddings.conv.module_0.ffn2.bias', 'bert.embeddings.word_embeddings.conv.module_0.lin_edge.weight', 'bert.embeddings.word_embeddings.conv.module_2.lin_key.weight', 'bert.embeddings.word_embeddings.conv.module_2.lin_key.bias', 'bert.embeddings.word_embeddings.conv.module_2.lin_query.weight', 'bert.embeddings.word_embeddings.conv.module_2.lin_query.bias', 'bert.embeddings.word_embeddings.conv.module_2.lin_value.weight', 'bert.embeddings.word_embeddings.conv.module_2.lin_value.bias', 'bert.embeddings.word_embeddings.conv.module_2.layernorm1.weight', 'bert.embeddings.word_embeddings.conv.module_2.layernorm1.bias', 'bert.embeddings.word_embeddings.conv.module_2.layernorm2.weight', 'bert.embeddings.word_embeddings.conv.module_2.layernorm2.bias', 'bert.embeddings.word_embeddings.conv.module_2.proj.weight', 'bert.embeddings.word_embeddings.conv.module_2.proj.bias', 'bert.embeddings.word_embeddings.conv.module_2.ffn.weight', 'bert.embeddings.word_embeddings.conv.module_2.ffn.bias', 'bert.embeddings.word_embeddings.conv.module_2.ffn2.weight', 'bert.embeddings.word_embeddings.conv.module_2.ffn2.bias', 'bert.embeddings.word_embeddings.conv.module_2.lin_edge.weight', 'bert.embeddings.word_embeddings.conv.module_4.lin_key.weight', 'bert.embeddings.word_embeddings.conv.module_4.lin_key.bias', 'bert.embeddings.word_embeddings.conv.module_4.lin_query.weight', 'bert.embeddings.word_embeddings.conv.module_4.lin_query.bias', 'bert.embeddings.word_embeddings.conv.module_4.lin_value.weight', 'bert.embeddings.word_embeddings.conv.module_4.lin_value.bias', 'bert.embeddings.word_embeddings.conv.module_4.layernorm1.weight', 'bert.embeddings.word_embeddings.conv.module_4.layernorm1.bias', 'bert.embeddings.word_embeddings.conv.module_4.layernorm2.weight', 'bert.embeddings.word_embeddings.conv.module_4.layernorm2.bias', 'bert.embeddings.word_embeddings.conv.module_4.proj.weight', 'bert.embeddings.word_embeddings.conv.module_4.proj.bias', 'bert.embeddings.word_embeddings.conv.module_4.ffn.weight', 'bert.embeddings.word_embeddings.conv.module_4.ffn.bias', 'bert.embeddings.word_embeddings.conv.module_4.ffn2.weight', 'bert.embeddings.word_embeddings.conv.module_4.ffn2.bias', 'bert.embeddings.word_embeddings.conv.module_4.lin_edge.weight', 'bert.embeddings.word_embeddings.embed.weight', 'bert.embeddings.word_embeddings.embed_ee.weight', 'bert.embeddings.type_embeddings.weight', 'bert.embeddings.age_embeddings.weight', 'bert.embeddings.time_embeddings.weight', 'bert.embeddings.posi_embeddings.weight', 'bert.embeddings.seq_layers.0.weight', 'bert.embeddings.seq_layers.0.bias', 'bert.embeddings.seq_layers.2.weight', 'bert.embeddings.seq_layers.2.bias', 'bert.embeddings.seq_layers.4.weight', 'bert.embeddings.seq_layers.4.bias', 'bert.embeddings.LayerNorm.weight', 'bert.embeddings.LayerNorm.bias', 'bert.encoder.layer.0.attention.self.query.weight', 'bert.encoder.layer.0.attention.self.query.bias', 'bert.encoder.layer.0.attention.self.key.weight', 'bert.encoder.layer.0.attention.self.key.bias', 'bert.encoder.layer.0.attention.self.value.weight', 'bert.encoder.layer.0.attention.self.value.bias', 'bert.encoder.layer.0.attention.output.dense.weight', 'bert.encoder.layer.0.attention.output.dense.bias', 'bert.encoder.layer.0.attention.output.LayerNorm.weight', 'bert.encoder.layer.0.attention.output.LayerNorm.bias', 'bert.encoder.layer.0.intermediate.dense.weight', 'bert.encoder.layer.0.intermediate.dense.bias', 'bert.encoder.layer.0.output.dense.weight', 'bert.encoder.layer.0.output.dense.bias', 'bert.encoder.layer.0.output.LayerNorm.weight', 'bert.encoder.layer.0.output.LayerNorm.bias', 'bert.encoder.layer.1.attention.self.query.weight', 'bert.encoder.layer.1.attention.self.query.bias', 'bert.encoder.layer.1.attention.self.key.weight', 'bert.encoder.layer.1.attention.self.key.bias', 'bert.encoder.layer.1.attention.self.value.weight', 'bert.encoder.layer.1.attention.self.value.bias', 'bert.encoder.layer.1.attention.output.dense.weight', 'bert.encoder.layer.1.attention.output.dense.bias', 'bert.encoder.layer.1.attention.output.LayerNorm.weight', 'bert.encoder.layer.1.attention.output.LayerNorm.bias', 'bert.encoder.layer.1.intermediate.dense.weight', 'bert.encoder.layer.1.intermediate.dense.bias', 'bert.encoder.layer.1.output.dense.weight', 'bert.encoder.layer.1.output.dense.bias', 'bert.encoder.layer.1.output.LayerNorm.weight', 'bert.encoder.layer.1.output.LayerNorm.bias', 'bert.encoder.layer.2.attention.self.query.weight', 'bert.encoder.layer.2.attention.self.query.bias', 'bert.encoder.layer.2.attention.self.key.weight', 'bert.encoder.layer.2.attention.self.key.bias', 'bert.encoder.layer.2.attention.self.value.weight', 'bert.encoder.layer.2.attention.self.value.bias', 'bert.encoder.layer.2.attention.output.dense.weight', 'bert.encoder.layer.2.attention.output.dense.bias', 'bert.encoder.layer.2.attention.output.LayerNorm.weight', 'bert.encoder.layer.2.attention.output.LayerNorm.bias', 'bert.encoder.layer.2.intermediate.dense.weight', 'bert.encoder.layer.2.intermediate.dense.bias', 'bert.encoder.layer.2.output.dense.weight', 'bert.encoder.layer.2.output.dense.bias', 'bert.encoder.layer.2.output.LayerNorm.weight', 'bert.encoder.layer.2.output.LayerNorm.bias', 'bert.encoder.layer.3.attention.self.query.weight', 'bert.encoder.layer.3.attention.self.query.bias', 'bert.encoder.layer.3.attention.self.key.weight', 'bert.encoder.layer.3.attention.self.key.bias', 'bert.encoder.layer.3.attention.self.value.weight', 'bert.encoder.layer.3.attention.self.value.bias', 'bert.encoder.layer.3.attention.output.dense.weight', 'bert.encoder.layer.3.attention.output.dense.bias', 'bert.encoder.layer.3.attention.output.LayerNorm.weight', 'bert.encoder.layer.3.attention.output.LayerNorm.bias', 'bert.encoder.layer.3.intermediate.dense.weight', 'bert.encoder.layer.3.intermediate.dense.bias', 'bert.encoder.layer.3.output.dense.weight', 'bert.encoder.layer.3.output.dense.bias', 'bert.encoder.layer.3.output.LayerNorm.weight', 'bert.encoder.layer.3.output.LayerNorm.bias', 'bert.encoder.layer.4.attention.self.query.weight', 'bert.encoder.layer.4.attention.self.query.bias', 'bert.encoder.layer.4.attention.self.key.weight', 'bert.encoder.layer.4.attention.self.key.bias', 'bert.encoder.layer.4.attention.self.value.weight', 'bert.encoder.layer.4.attention.self.value.bias', 'bert.encoder.layer.4.attention.output.dense.weight', 'bert.encoder.layer.4.attention.output.dense.bias', 'bert.encoder.layer.4.attention.output.LayerNorm.weight', 'bert.encoder.layer.4.attention.output.LayerNorm.bias', 'bert.encoder.layer.4.intermediate.dense.weight', 'bert.encoder.layer.4.intermediate.dense.bias', 'bert.encoder.layer.4.output.dense.weight', 'bert.encoder.layer.4.output.dense.bias', 'bert.encoder.layer.4.output.LayerNorm.weight', 'bert.encoder.layer.4.output.LayerNorm.bias', 'bert.encoder.layer.5.attention.self.query.weight', 'bert.encoder.layer.5.attention.self.query.bias', 'bert.encoder.layer.5.attention.self.key.weight', 'bert.encoder.layer.5.attention.self.key.bias', 'bert.encoder.layer.5.attention.self.value.weight', 'bert.encoder.layer.5.attention.self.value.bias', 'bert.encoder.layer.5.attention.output.dense.weight', 'bert.encoder.layer.5.attention.output.dense.bias', 'bert.encoder.layer.5.attention.output.LayerNorm.weight', 'bert.encoder.layer.5.attention.output.LayerNorm.bias', 'bert.encoder.layer.5.intermediate.dense.weight', 'bert.encoder.layer.5.intermediate.dense.bias', 'bert.encoder.layer.5.output.dense.weight', 'bert.encoder.layer.5.output.dense.bias', 'bert.encoder.layer.5.output.LayerNorm.weight', 'bert.encoder.layer.5.output.LayerNorm.bias', 'bert.pooler.dense.weight', 'bert.pooler.dense.bias', 'classifier.weight', 'classifier.bias'])"
      ]
     },
     "execution_count": 66,
     "metadata": {},
     "output_type": "execute_result"
    }
   ],
   "source": [
    "model_dict.keys()"
   ]
  },
  {
   "cell_type": "code",
   "execution_count": null,
   "metadata": {},
   "outputs": [],
   "source": [
    "trainload = GraphLoader(GDSet(trainDSet), batch_size=train_params['batch_size'], shuffle=False)\n",
    "valload = GraphLoader(GDSet(valDSet), batch_size=train_params['batch_size'], shuffle=False)\n"
   ]
  },
  {
   "cell_type": "code",
   "execution_count": null,
   "metadata": {},
   "outputs": [],
   "source": [
    "train_loss, val_loss = train(trainload, valload, train_params['device'])"
   ]
  }
 ],
 "metadata": {
  "kernelspec": {
   "display_name": "graph",
   "language": "python",
   "name": "python3"
  },
  "language_info": {
   "codemirror_mode": {
    "name": "ipython",
    "version": 3
   },
   "file_extension": ".py",
   "mimetype": "text/x-python",
   "name": "python",
   "nbconvert_exporter": "python",
   "pygments_lexer": "ipython3",
   "version": "3.10.14"
  }
 },
 "nbformat": 4,
 "nbformat_minor": 2
}
