{
 "cells": [
  {
   "cell_type": "code",
   "execution_count": 1,
   "metadata": {},
   "outputs": [],
   "source": [
    "import os\n",
    "import torch\n",
    "import pickle\n",
    "from tqdm import tqdm\n",
    "from src.utils.datasets import GDSet, split_dataset"
   ]
  },
  {
   "cell_type": "code",
   "execution_count": 2,
   "metadata": {},
   "outputs": [],
   "source": [
    "path = './data'"
   ]
  },
  {
   "cell_type": "code",
   "execution_count": 3,
   "metadata": {},
   "outputs": [],
   "source": [
    "with open(os.path.join(path, 'pretrained_data_pad_v3.pkl'), 'rb') as handle:\n",
    "    dataset = pickle.load(handle)"
   ]
  },
  {
   "cell_type": "code",
   "execution_count": 4,
   "metadata": {},
   "outputs": [],
   "source": [
    "train_params = {'val_split': 0.1, 'test_split': 0.2}"
   ]
  },
  {
   "cell_type": "code",
   "execution_count": 5,
   "metadata": {},
   "outputs": [],
   "source": [
    "exp_list = [777, 321, 5959, 666, 333]"
   ]
  },
  {
   "cell_type": "code",
   "execution_count": 17,
   "metadata": {},
   "outputs": [],
   "source": [
    "trainDSet, valDSet, testDSet = split_dataset(dataset, train_params, random_seed=exp_list[0])"
   ]
  },
  {
   "cell_type": "code",
   "execution_count": 16,
   "metadata": {},
   "outputs": [
    {
     "name": "stderr",
     "output_type": "stream",
     "text": [
      "0it [00:00, ?it/s]"
     ]
    },
    {
     "name": "stdout",
     "output_type": "stream",
     "text": [
      "29859 3318 8295\n",
      "41472\n"
     ]
    },
    {
     "name": "stderr",
     "output_type": "stream",
     "text": [
      "1it [17:57, 1077.82s/it]"
     ]
    },
    {
     "name": "stdout",
     "output_type": "stream",
     "text": [
      "29859 3318 8295\n",
      "41472\n"
     ]
    },
    {
     "name": "stderr",
     "output_type": "stream",
     "text": [
      "2it [36:07, 1083.87s/it]\n"
     ]
    }
   ],
   "source": [
    "for idx, exp in tqdm(enumerate(exp_list[3:], start=3)):\n",
    "    trainDSet, valDSet, testDSet = split_dataset(dataset, train_params, random_seed=exp)\n",
    "    print(len(trainDSet), len(valDSet), len(testDSet))\n",
    "    print(len(trainDSet) + len(valDSet) + len(testDSet))\n",
    "    train_dataset = GDSet(trainDSet)\n",
    "    val_dataset = GDSet(valDSet)\n",
    "    test_dataset = GDSet(testDSet)\n",
    "    torch.save(train_dataset, os.path.join(path, 'pt', f'train_dataset_exp{idx}.pt'))\n",
    "    torch.save(val_dataset, os.path.join(path, 'pt', f'valid_dataset_exp{idx}.pt'))\n",
    "    torch.save(test_dataset, os.path.join(path, 'pt', f'test_dataset_exp{idx}.pt'))"
   ]
  },
  {
   "cell_type": "code",
   "execution_count": 15,
   "metadata": {},
   "outputs": [
    {
     "name": "stdout",
     "output_type": "stream",
     "text": [
      "29859 3318 8295\n",
      "41472\n"
     ]
    }
   ],
   "source": [
    "idx = 0\n",
    "trainDSet, valDSet, testDSet = split_dataset(dataset, train_params, random_seed=exp_list[idx])\n",
    "print(len(trainDSet), len(valDSet), len(testDSet))\n",
    "print(len(trainDSet) + len(valDSet) + len(testDSet))\n",
    "train_dataset = GDSet(trainDSet)\n",
    "val_dataset = GDSet(valDSet)\n",
    "test_dataset = GDSet(testDSet)\n",
    "torch.save(train_dataset, os.path.join(path, 'pt', f'train_dataset_exp{idx}.pt'))\n",
    "torch.save(val_dataset, os.path.join(path, 'pt', f'valid_dataset_exp{idx}.pt'))\n",
    "torch.save(test_dataset, os.path.join(path, 'pt', f'test_dataset_exp{idx}.pt'))"
   ]
  },
  {
   "cell_type": "code",
   "execution_count": null,
   "metadata": {},
   "outputs": [],
   "source": []
  }
 ],
 "metadata": {
  "kernelspec": {
   "display_name": "graph",
   "language": "python",
   "name": "python3"
  },
  "language_info": {
   "codemirror_mode": {
    "name": "ipython",
    "version": 3
   },
   "file_extension": ".py",
   "mimetype": "text/x-python",
   "name": "python",
   "nbconvert_exporter": "python",
   "pygments_lexer": "ipython3",
   "version": "3.10.14"
  }
 },
 "nbformat": 4,
 "nbformat_minor": 2
}
